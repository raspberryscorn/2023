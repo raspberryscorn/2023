{
  "nbformat": 4,
  "nbformat_minor": 0,
  "metadata": {
    "colab": {
      "provenance": [],
      "mount_file_id": "1yI_UINkaRrvgmpH6kbGzFgrql4c_rB_R",
      "authorship_tag": "ABX9TyOZcR57VwgN1lVWXuToaOch",
      "include_colab_link": true
    },
    "kernelspec": {
      "name": "python3",
      "display_name": "Python 3"
    },
    "language_info": {
      "name": "python"
    }
  },
  "cells": [
    {
      "cell_type": "markdown",
      "metadata": {
        "id": "view-in-github",
        "colab_type": "text"
      },
      "source": [
        "<a href=\"https://colab.research.google.com/github/raspberryscorn/2023/blob/main/unet_append_layer_2023.ipynb\" target=\"_parent\"><img src=\"https://colab.research.google.com/assets/colab-badge.svg\" alt=\"Open In Colab\"/></a>"
      ]
    },
    {
      "cell_type": "code",
      "source": [
        "cd /content/drive/MyDrive/ddeep/2023"
      ],
      "metadata": {
        "id": "GbaW_I6fJnA0"
      },
      "execution_count": null,
      "outputs": []
    },
    {
      "cell_type": "code",
      "execution_count": null,
      "metadata": {
        "id": "nox5sbDsJNCM"
      },
      "outputs": [],
      "source": [
        "import tensorflow as tf\n",
        "from tensorflow import keras\n",
        "import numpy as np\n",
        "\n",
        "\n",
        "def graph(input_X, input_Y):\n",
        "    input = keras.layers.Input((input_X, input_Y, 3))\n",
        "\n",
        "    Conv1 = keras.layers.Conv2D(16, (3, 3), activation=\"relu\", padding='same')(input)\n",
        "    Conv1 = keras.layers.Conv2D(16, (3, 3), activation=\"relu\", padding='same')(Conv1)\n",
        "    Pool1 = keras.layers.MaxPooling2D((2, 2)) (Conv1)\n",
        "\n",
        "    Conv2 = keras.layers.Conv2D(32, (3, 3), activation=\"relu\", padding='same')(Pool1)\n",
        "    Conv2 = keras.layers.Conv2D(32, (3, 3), activation=\"relu\", padding='same')(Conv2)\n",
        "    Pool2 = keras.layers.MaxPooling2D((2, 2))(Conv2)\n",
        "\n",
        "    Conv3 = keras.layers.Conv2D(64, (3, 3), activation=\"relu\", padding='same')(Pool2)\n",
        "    Conv3 = keras.layers.Conv2D(64, (3, 3), activation=\"relu\", padding='same')(Conv3)\n",
        "    Pool3 = keras.layers.MaxPooling2D((2, 2))(Conv3)\n",
        "\n",
        "    Conv4 = keras.layers.Conv2D(128, (3, 3), activation=\"relu\", padding='same')(Pool3)\n",
        "    Conv4 = keras.layers.Conv2D(128, (3, 3), activation=\"relu\", padding='same')(Conv4)\n",
        "    Pool4 = keras.layers.MaxPooling2D((2, 2))(Conv4)\n",
        "\n",
        "    Conv5 = keras.layers.Conv2D(256, (3, 3), activation=\"relu\", padding='same')(Pool4)\n",
        "    Conv5 = keras.layers.Conv2D(256, (3, 3), activation=\"relu\", padding='same')(Conv5)\n",
        "    Pool5 = keras.layers.MaxPooling2D((2, 2))(Conv5)\n",
        "\n",
        "    Conv6 = keras.layers.Conv2D(512, (3, 3), activation='relu', padding='same')(Pool5)\n",
        "    Conv6 = keras.layers.Conv2D(512, (3, 3), activation='relu', padding='same')(Conv6)\n",
        "\n",
        "    Ups0 = keras.layers.Conv2DTranspose(256, (2, 2), strides=(2, 2))(Conv6)\n",
        "    Ups0 = keras.layers.Concatenate()([Ups0, Conv5])\n",
        "    Ups0_conv = keras.layers.Conv2D(128, (3, 3), activation='relu', padding='same')(Ups0)\n",
        "    Ups0_conv = keras.layers.Conv2D(128, (3, 3), activation='relu', padding='same')(Ups0_conv)\n",
        "\n",
        "    Ups1 = keras.layers.Conv2DTranspose(128, (2, 2), strides=(2, 2), padding='same')(Ups0_conv)\n",
        "    Ups1 = keras.layers.Concatenate()([Ups1, Conv4])\n",
        "    Ups1_conv = keras.layers.Conv2D(128, (3, 3), activation=\"relu\", padding='same')(Ups1)\n",
        "    Ups1_conv = keras.layers.Conv2D(128, (3, 3), activation=\"relu\", padding='same')(Ups1_conv)\n",
        "\n",
        "    Ups2 = keras.layers.Conv2DTranspose(64, (2, 2), strides=(2, 2), padding=\"same\")(Ups1_conv)\n",
        "    Ups2 = keras.layers.Concatenate()([Ups2, Conv3])\n",
        "    Ups2_conv = keras.layers.Conv2D(64, (3, 3), activation=\"relu\", padding=\"same\")(Ups2)\n",
        "    Ups2_conv = keras.layers.Conv2D(64, (3, 3), activation=\"relu\", padding=\"same\")(Ups2_conv)\n",
        "\n",
        "    Ups3 = keras.layers.Conv2DTranspose(32, (2, 2), strides=(2, 2), padding=\"same\")(Ups2_conv)\n",
        "    Ups3 = keras.layers.Concatenate()([Ups3, Conv2])\n",
        "    Ups3_conv = keras.layers.Conv2D(32, (3, 3), activation=\"relu\", padding=\"same\")(Ups3)\n",
        "    Ups3_conv = keras.layers.Conv2D(32, (3, 3), activation=\"relu\", padding=\"same\")(Ups3_conv)\n",
        "\n",
        "    Ups4 = keras.layers.Conv2DTranspose(16, (2, 2), strides=(2, 2), padding=\"same\")(Ups3_conv)\n",
        "    Ups4 = keras.layers.Concatenate()([Ups4, Conv1])\n",
        "    Ups4_conv = keras.layers.Conv2D(16, (3, 3), activation=\"relu\", padding=\"same\")(Ups4)\n",
        "    Ups4_conv = keras.layers.Conv2D(16, (3, 3), activation=\"relu\", padding=\"same\")(Ups4_conv)\n",
        "\n",
        "    output_logit = keras.layers.Conv2D(1, (1, 1))(Ups4_conv)\n",
        "\n",
        "    return keras.Model(inputs=input, outputs=output_logit)"
      ]
    }
  ]
}