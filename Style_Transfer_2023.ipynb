{
  "nbformat": 4,
  "nbformat_minor": 0,
  "metadata": {
    "colab": {
      "provenance": [],
      "include_colab_link": true
    },
    "kernelspec": {
      "name": "python3",
      "display_name": "Python 3"
    },
    "language_info": {
      "name": "python"
    }
  },
  "cells": [
    {
      "cell_type": "markdown",
      "metadata": {
        "id": "view-in-github",
        "colab_type": "text"
      },
      "source": [
        "<a href=\"https://colab.research.google.com/github/raspberryscorn/2023/blob/main/Style_Transfer_2023.ipynb\" target=\"_parent\"><img src=\"https://colab.research.google.com/assets/colab-badge.svg\" alt=\"Open In Colab\"/></a>"
      ]
    },
    {
      "cell_type": "markdown",
      "source": [
        "# Style Transfer\n",
        "\n"
      ],
      "metadata": {
        "id": "fcdH0x7_e7k1"
      }
    },
    {
      "cell_type": "code",
      "source": [
        "from google.colab import drive\n",
        "drive.mount('/content/drive')"
      ],
      "metadata": {
        "colab": {
          "base_uri": "https://localhost:8080/"
        },
        "id": "Jl0-n4xozCgs",
        "outputId": "9a9f1ea6-e9bc-4c49-cb93-e4222a83a291"
      },
      "execution_count": null,
      "outputs": [
        {
          "output_type": "stream",
          "name": "stdout",
          "text": [
            "Drive already mounted at /content/drive; to attempt to forcibly remount, call drive.mount(\"/content/drive\", force_remount=True).\n"
          ]
        }
      ]
    },
    {
      "cell_type": "markdown",
      "source": [
        "## imports"
      ],
      "metadata": {
        "id": "mSBrtBZve_Tw"
      }
    },
    {
      "cell_type": "code",
      "execution_count": null,
      "metadata": {
        "id": "t2IdqdPjdxOK"
      },
      "outputs": [],
      "source": [
        "import tensorflow as tf\n",
        "import numpy as np\n",
        "from PIL import Image\n",
        "import tensorflow_hub as hub\n",
        "import urllib.request"
      ]
    },
    {
      "cell_type": "markdown",
      "source": [
        "## download Image"
      ],
      "metadata": {
        "id": "FR39_fXkfBMl"
      }
    },
    {
      "cell_type": "code",
      "source": [
        "def download_img(url, save_as):\n",
        "    urllib.request.urlretrieve(url, f\"{save_as}.jpg\")"
      ],
      "metadata": {
        "id": "iwCFSVEneVni"
      },
      "execution_count": null,
      "outputs": []
    },
    {
      "cell_type": "code",
      "source": [
        "content_url = 'https://github.com/onebottlekick/JNU_dl/releases/download/dataset/content.jpg'\n",
        "style_url = 'https://github.com/onebottlekick/JNU_dl/releases/download/dataset/style.jpg'\n",
        "\n",
        "download_img(content_url, 'content')\n",
        "download_img(style_url, 'style')"
      ],
      "metadata": {
        "id": "FnO-FqToflyP"
      },
      "execution_count": null,
      "outputs": []
    },
    {
      "cell_type": "markdown",
      "source": [
        "## dataset"
      ],
      "metadata": {
        "id": "gNsVBb5-fFrt"
      }
    },
    {
      "cell_type": "code",
      "source": [
        "class DataReader():\n",
        "    def __init__(self, content, style):\n",
        "        self.content = self.load_img(content)\n",
        "        self.style = self.load_img(style)\n",
        "\n",
        "    def load_img(self, path_to_img):\n",
        "      max_dim = 512\n",
        "      img = tf.io.read_file(path_to_img)\n",
        "      img = tf.image.decode_image(img, channels=3)\n",
        "      img = tf.image.convert_image_dtype(img, tf.float32)\n",
        "\n",
        "      shape = tf.cast(tf.shape(img)[:-1], tf.float32)\n",
        "      long_dim = max(shape)\n",
        "      scale = max_dim / long_dim\n",
        "\n",
        "      new_shape = tf.cast(shape * scale, tf.int32)\n",
        "\n",
        "      img = tf.image.resize(img, new_shape)\n",
        "      img = img[tf.newaxis, :]\n",
        "      return tf.constant(img)\n",
        "\n",
        "\n",
        "def tensor_to_image(tensor):\n",
        "  tensor = tensor*255\n",
        "  tensor = np.array(tensor, dtype=np.uint8)\n",
        "  if np.ndim(tensor)>3:\n",
        "    assert tensor.shape[0] == 1\n",
        "    tensor = tensor[0]\n",
        "  return Image.fromarray(tensor)"
      ],
      "metadata": {
        "id": "d2viP2uDd23K"
      },
      "execution_count": null,
      "outputs": []
    },
    {
      "cell_type": "markdown",
      "source": [
        "## main"
      ],
      "metadata": {
        "id": "Sjuj5IOofL46"
      }
    },
    {
      "cell_type": "code",
      "source": [
        "# 데이터를 불러옵니다.\n",
        "dr = DataReader(\"content.jpg\", \"style.jpg\")\n",
        "\n",
        "# Hub로부터 style transfer 모듈을 불러옵니다.\n",
        "hub_module = hub.load(\n",
        "    'https://tfhub.dev/google/magenta/arbitrary-image-stylization-v1-256/1'\n",
        ")\n",
        "\n",
        "# 모듈에 이미지를 삽입해 Style Transfer를 실시합니다.\n",
        "stylized_image = hub_module(dr.content, dr.style)[0]\n",
        "\n",
        "# 결과를 출력합니다.\n",
        "result = tensor_to_image(stylized_image)\n",
        "\n",
        "# 결과를 저장합니다.\n",
        "result.save(\"result.jpg\")"
      ],
      "metadata": {
        "id": "5Xj0imJVd867"
      },
      "execution_count": null,
      "outputs": []
    }
  ]
}