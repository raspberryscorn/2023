{
  "nbformat": 4,
  "nbformat_minor": 0,
  "metadata": {
    "colab": {
      "provenance": [],
      "gpuType": "T4",
      "include_colab_link": true
    },
    "kernelspec": {
      "name": "python3",
      "display_name": "Python 3"
    },
    "language_info": {
      "name": "python"
    },
    "accelerator": "GPU"
  },
  "cells": [
    {
      "cell_type": "markdown",
      "metadata": {
        "id": "view-in-github",
        "colab_type": "text"
      },
      "source": [
        "<a href=\"https://colab.research.google.com/github/raspberryscorn/2023/blob/main/GAN_2023.ipynb\" target=\"_parent\"><img src=\"https://colab.research.google.com/assets/colab-badge.svg\" alt=\"Open In Colab\"/></a>"
      ]
    },
    {
      "cell_type": "markdown",
      "source": [
        "# GAN\n",
        "\n"
      ],
      "metadata": {
        "id": "P_js3NuxPIJK"
      }
    },
    {
      "cell_type": "markdown",
      "source": [
        "## import modules"
      ],
      "metadata": {
        "id": "JsDFUIJRSAPb"
      }
    },
    {
      "cell_type": "code",
      "source": [
        "from google.colab import drive\n",
        "drive.mount('/content/drive')"
      ],
      "metadata": {
        "colab": {
          "base_uri": "https://localhost:8080/"
        },
        "id": "2tWERZV3x8o9",
        "outputId": "23d205f6-8558-4bc4-bb1d-c141a106600b"
      },
      "execution_count": 1,
      "outputs": [
        {
          "output_type": "stream",
          "name": "stdout",
          "text": [
            "Mounted at /content/drive\n"
          ]
        }
      ]
    },
    {
      "cell_type": "code",
      "execution_count": null,
      "metadata": {
        "id": "sS0YQGagO6Ka"
      },
      "outputs": [],
      "source": [
        "import os\n",
        "os.environ['TF_CPP_MIN_LOG_LEVEL'] = '3'\n",
        "from matplotlib import pyplot as plt\n",
        "from tensorflow import keras\n",
        "import tensorflow as tf\n",
        "from PIL import Image\n",
        "import numpy as np\n",
        "import imageio\n",
        "import glob\n",
        "from IPython import display\n",
        "from matplotlib import pyplot as plt\n",
        "import time"
      ]
    },
    {
      "cell_type": "markdown",
      "source": [
        "## dataset"
      ],
      "metadata": {
        "id": "mR1QDXaGPCob"
      }
    },
    {
      "cell_type": "code",
      "source": [
        "datasets = {\n",
        "    'mnist' : keras.datasets.mnist,\n",
        "    'fashion_mnist' : keras.datasets.fashion_mnist,\n",
        "    'cifar10' : keras.datasets.cifar10\n",
        "}"
      ],
      "metadata": {
        "id": "iuKR34xmPVI6"
      },
      "execution_count": null,
      "outputs": []
    },
    {
      "cell_type": "code",
      "source": [
        "class DataReader():\n",
        "    def __init__(self, dataset):\n",
        "        self.dataset = dataset\n",
        "        data_len = 60000 if self.dataset == 'mnist' else 50000\n",
        "        (self.train_X, _), (_, _) = datasets[dataset].load_data()\n",
        "        self.train_X = self.preprocess(self.train_X)\n",
        "        self.train_dataset = tf.data.Dataset.from_tensor_slices(self.train_X).shuffle(data_len).batch(256)\n",
        "\n",
        "    def preprocess(self, images):\n",
        "        if self.dataset != 'cifar10':\n",
        "            images = images.reshape(images.shape[0], 28, 28, 1).astype('float32')\n",
        "        images = images / 127.5 - 1\n",
        "        return images\n",
        "\n",
        "    def show_processed_images(self):\n",
        "        plt.figure(figsize=(10, 10))\n",
        "        for i in range(25):\n",
        "            plt.subplot(5, 5, i + 1)\n",
        "            plt.xticks([])\n",
        "            plt.yticks([])\n",
        "            plt.grid(False)\n",
        "            plt.imshow(self.train_X[i])\n",
        "        plt.show()\n",
        "\n"
      ],
      "metadata": {
        "id": "9KlP21qJPBZS"
      },
      "execution_count": null,
      "outputs": []
    },
    {
      "cell_type": "markdown",
      "source": [
        "## gan model"
      ],
      "metadata": {
        "id": "6nLwScBFRgeg"
      }
    },
    {
      "cell_type": "code",
      "source": [
        "class GAN:\n",
        "    def __init__(self, dataset, noise_dim=100):\n",
        "        self.in_channels = 8 if dataset=='cifar10' else 7\n",
        "        self.out_channels = 3 if dataset=='cifar10' else 1\n",
        "        self.img_shape = (32, 32, 3) if dataset=='cifar10' else (28, 28, 1)\n",
        "\n",
        "    def make_generator(self):\n",
        "        model = keras.Sequential([\n",
        "        keras.layers.Dense(self.in_channels*self.in_channels*128, use_bias=False, input_shape=(noise_dim,)),\n",
        "        keras.layers.BatchNormalization(),\n",
        "        keras.layers.LeakyReLU(),\n",
        "\n",
        "        keras.layers.Reshape((self.in_channels, self.in_channels, 128)),\n",
        "\n",
        "        keras.layers.Conv2DTranspose(32, (5, 5), strides=(1, 1), padding='same', use_bias=False),\n",
        "        keras.layers.BatchNormalization(),\n",
        "        keras.layers.LeakyReLU(),\n",
        "\n",
        "        keras.layers.Conv2DTranspose(8, (5, 5), strides=(2, 2), padding='same', use_bias=False),\n",
        "        keras.layers.BatchNormalization(),\n",
        "        keras.layers.LeakyReLU(),\n",
        "\n",
        "        keras.layers.Conv2DTranspose(self.out_channels, (5, 5), strides=(2, 2), padding='same', use_bias=False, activation='tanh')\n",
        "        ])\n",
        "\n",
        "        return model\n",
        "\n",
        "    def make_discriminator(self):\n",
        "        model = keras.Sequential([\n",
        "        keras.layers.Conv2D(64, (5, 5), strides=(2, 2), padding='same', input_shape=self.img_shape),\n",
        "        keras.layers.LeakyReLU(),\n",
        "        keras.layers.Dropout(0.3),\n",
        "\n",
        "        keras.layers.Conv2D(128, (5, 5), strides=(2, 2), padding='same'),\n",
        "        keras.layers.LeakyReLU(),\n",
        "        keras.layers.Dropout(0.3),\n",
        "\n",
        "        keras.layers.Flatten(),\n",
        "        keras.layers.Dense(1)\n",
        "        ])\n",
        "\n",
        "        return model"
      ],
      "metadata": {
        "id": "8fchlrJ3qF2m"
      },
      "execution_count": null,
      "outputs": []
    },
    {
      "cell_type": "markdown",
      "source": [
        "## train functions"
      ],
      "metadata": {
        "id": "mWby79SAUqC1"
      }
    },
    {
      "cell_type": "code",
      "source": [
        "def loss_D(real_output, fake_output):\n",
        "    real_loss = keras.losses.BinaryCrossentropy(from_logits=True)(tf.ones_like(real_output), real_output)\n",
        "    fake_loss = keras.losses.BinaryCrossentropy(from_logits=True)(tf.zeros_like(fake_output), fake_output)\n",
        "    total_loss = real_loss + fake_loss\n",
        "    return total_loss\n",
        "\n",
        "\n",
        "def loss_G(fake_output):\n",
        "    return keras.losses.BinaryCrossentropy(from_logits=True)(tf.ones_like(fake_output), fake_output)\n",
        "\n",
        "\n",
        "generator_optimizer = keras.optimizers.Adam(1e-4)\n",
        "discriminator_optimizer = keras.optimizers.Adam(1e-4)\n",
        "\n",
        "noise_dim = 100\n",
        "seed = tf.random.normal([36, noise_dim])\n",
        "\n",
        "\n",
        "# `tf.function`이 어떻게 사용되는지 주목해 주세요.\n",
        "# 이 데코레이터는 함수를 \"컴파일\"합니다.\n",
        "@tf.function\n",
        "def train_step(generator, discriminator, images):\n",
        "    noise = tf.random.normal([256, noise_dim])\n",
        "\n",
        "    with tf.GradientTape() as gen_tape, tf.GradientTape() as disc_tape:\n",
        "        generated_images = generator(noise, training=True)\n",
        "\n",
        "        real_output = discriminator(images, training=True)\n",
        "        fake_output = discriminator(generated_images, training=True)\n",
        "\n",
        "        gen_loss = loss_G(fake_output)\n",
        "        disc_loss = loss_D(real_output, fake_output)\n",
        "\n",
        "    gradient_G = gen_tape.gradient(gen_loss, generator.trainable_variables)\n",
        "    gradient_D = disc_tape.gradient(disc_loss, discriminator.trainable_variables)\n",
        "\n",
        "    generator_optimizer.apply_gradients(zip(gradient_G, generator.trainable_variables))\n",
        "    discriminator_optimizer.apply_gradients(zip(gradient_D, discriminator.trainable_variables))\n",
        "\n",
        "    return gen_loss, disc_loss\n",
        "\n",
        "\n",
        "def generate_and_save_images(model, epoch, test_input, dataset):\n",
        "    predictions = model(test_input, training=False)\n",
        "    fig = plt.figure(figsize=(6, 6))\n",
        "\n",
        "    for i in range(predictions.shape[0]):\n",
        "        plt.subplot(6, 6, i+1)\n",
        "        if dataset != 'cifar10':\n",
        "            plt.imshow(((predictions[i, :, :, 0]) + 1)/2)\n",
        "        else:\n",
        "            plt.imshow(((predictions[i]) + 1)/2)\n",
        "        plt.axis('off')\n",
        "\n",
        "    plt.savefig(f'results/{dataset}/image_at_epoch_{epoch:04d}.png')\n",
        "    plt.close(fig)\n",
        "\n",
        "\n",
        "def train(generator, discriminator, dataset, epochs, dataset_name):\n",
        "    os.makedirs(f\"results/{dataset_name}\", exist_ok=True)\n",
        "\n",
        "    for epoch in range(epochs):\n",
        "        start = time.time()\n",
        "        for image_batch in dataset:\n",
        "            gen_loss, disc_loss = train_step(generator, discriminator, image_batch)\n",
        "        duration = time.time() - start\n",
        "        display.clear_output(wait=True)\n",
        "        generate_and_save_images(generator, epoch + 1, seed, dataset_name)\n",
        "        print(\"Epoch \" + str(epoch + 1) + \"   Generator Loss : \" + str(float(gen_loss))[:7]\n",
        "                        + \"   Discriminator Loss : \" + str(float(disc_loss))[:7]\n",
        "                        + \"   Time : \" + str(duration)[:5] + \" seconds\")\n",
        "\n",
        "    # 마지막 에포크가 끝난 후 생성합니다.\n",
        "    display.clear_output(wait=True)\n",
        "    generate_and_save_images(generator, epochs, seed, dataset_name)\n",
        "\n",
        "\n",
        "def gif_generation(dataset):\n",
        "    anim_file = f'results/{dataset}.gif'\n",
        "\n",
        "    with imageio.get_writer(anim_file, mode='I') as writer:\n",
        "        filenames = glob.glob(f'results/{dataset}/image*.png')\n",
        "        filenames = sorted(filenames)\n",
        "        last = -1\n",
        "        for i, filename in enumerate(filenames):\n",
        "            frame = 2 * (i ** 0.5)\n",
        "            if round(frame) > round(last):\n",
        "                last = frame\n",
        "            else:\n",
        "                continue\n",
        "            image = imageio.imread(filename)\n",
        "            writer.append_data(image)\n",
        "        image = imageio.imread(filename)\n",
        "        writer.append_data(image)\n",
        "\n",
        "    import IPython\n",
        "    if IPython.version_info > (6, 2, 0, ''):\n",
        "        display.Image(filename=anim_file)\n"
      ],
      "metadata": {
        "id": "oMH4KPy_RF0N"
      },
      "execution_count": null,
      "outputs": []
    },
    {
      "cell_type": "markdown",
      "source": [
        "## main"
      ],
      "metadata": {
        "id": "2FEQS4EERlCN"
      }
    },
    {
      "cell_type": "code",
      "source": [
        "EPOCHS = 10  # 예제 기본값은 200입니다.\n",
        "\n",
        "dataset = 'mnist'\n",
        "# dataset = 'fashion_mnist'\n",
        "# dataset = 'cifar10'\n",
        "\n",
        "\n",
        "# 데이터를 읽어옵니다.\n",
        "dr = DataReader(dataset)\n",
        "\n",
        "# GAN을 불러옵니다.\n",
        "gan = GAN(dataset, noise_dim)\n",
        "\n",
        "# Generator\n",
        "generator = gan.make_generator()\n",
        "# Discriminator\n",
        "discriminator = gan.make_discriminator()\n",
        "\n",
        "# 인공신경망을 학습시킵니다.\n",
        "print(\"\\n\\n************ TRAINING START ************ \")\n",
        "train(generator, discriminator, dr.train_dataset, EPOCHS, dataset_name=dataset)\n",
        "\n",
        "# GIF 애니메이션을 저장합니다.\n",
        "gif_generation(dataset)"
      ],
      "metadata": {
        "colab": {
          "base_uri": "https://localhost:8080/"
        },
        "id": "bA51AJO-Rnz2",
        "outputId": "46f05114-67ba-4bba-bcb1-ec65aa6d580c"
      },
      "execution_count": null,
      "outputs": [
        {
          "output_type": "stream",
          "name": "stderr",
          "text": [
            "<ipython-input-5-e4fc5f8b3403>:91: DeprecationWarning: Starting with ImageIO v3 the behavior of this function will switch to that of iio.v3.imread. To keep the current behavior (and make this warning disappear) use `import imageio.v2 as imageio` or call `imageio.v2.imread` directly.\n",
            "  image = imageio.imread(filename)\n",
            "<ipython-input-5-e4fc5f8b3403>:93: DeprecationWarning: Starting with ImageIO v3 the behavior of this function will switch to that of iio.v3.imread. To keep the current behavior (and make this warning disappear) use `import imageio.v2 as imageio` or call `imageio.v2.imread` directly.\n",
            "  image = imageio.imread(filename)\n"
          ]
        }
      ]
    }
  ]
}